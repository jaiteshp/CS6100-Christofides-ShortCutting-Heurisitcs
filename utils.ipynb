{
 "cells": [
  {
   "cell_type": "code",
   "execution_count": 21,
   "metadata": {},
   "outputs": [],
   "source": [
    "import os\n",
    "import subprocess\n",
    "import matplotlib.pyplot as plt\n",
    "import numpy as np\n",
    "import sys\n",
    "import threading"
   ]
  },
  {
   "cell_type": "code",
   "execution_count": 22,
   "metadata": {},
   "outputs": [],
   "source": [
    "tsp_dir = os.getcwd() + os.sep + 'TSPLIB' + os.sep"
   ]
  },
  {
   "cell_type": "code",
   "execution_count": 23,
   "metadata": {},
   "outputs": [],
   "source": [
    "tsp_files_list = os.listdir(tsp_dir)"
   ]
  },
  {
   "cell_type": "code",
   "execution_count": 24,
   "metadata": {},
   "outputs": [
    {
     "data": {
      "text/plain": [
       "CompletedProcess(args='make christofides', returncode=0, stdout=b\"make: 'christofides' is up to date.\\n\", stderr=b'')"
      ]
     },
     "execution_count": 24,
     "metadata": {},
     "output_type": "execute_result"
    }
   ],
   "source": [
    "subprocess.run('make christofides', shell=True, capture_output=True)"
   ]
  },
  {
   "cell_type": "code",
   "execution_count": 25,
   "metadata": {},
   "outputs": [
    {
     "name": "stdout",
     "output_type": "stream",
     "text": [
      "OptimalSoln:\t2085.000000\n",
      "Simple:\t\t1.053717\t2197\n",
      "Tri-Opt:\t1.031655\t2151\n",
      "Tri-Comp:\t1.031655\t2151\n",
      "Comp-Heur:\t1.074820\t2241\n",
      "\n"
     ]
    }
   ],
   "source": [
    "out = subprocess.run(['./christofides -f TSPLIB/gr17.tsp'], shell=True, capture_output=True)\n",
    "output = out.stdout.decode('utf-8')\n",
    "print(output)"
   ]
  },
  {
   "cell_type": "code",
   "execution_count": 26,
   "metadata": {},
   "outputs": [],
   "source": [
    "def parseOutputString(outputStr):\n",
    "    lines = outputStr.split('\\n')\n",
    "    resultDict = {}\n",
    "    for i in range(len(lines)-1):\n",
    "        line = lines[i]\n",
    "        s = line.split()\n",
    "        if(i == 0):\n",
    "            resultDict[i] = [s[1]]\n",
    "        else:\n",
    "            resultDict[i] = s[1:]\n",
    "    return resultDict"
   ]
  },
  {
   "cell_type": "code",
   "execution_count": 27,
   "metadata": {},
   "outputs": [
    {
     "data": {
      "text/plain": [
       "{0: ['2085.000000'],\n",
       " 1: ['1.053717', '2197'],\n",
       " 2: ['1.031655', '2151'],\n",
       " 3: ['1.031655', '2151'],\n",
       " 4: ['1.074820', '2241']}"
      ]
     },
     "execution_count": 27,
     "metadata": {},
     "output_type": "execute_result"
    }
   ],
   "source": [
    "parseOutputString(output)"
   ]
  },
  {
   "cell_type": "code",
   "execution_count": 69,
   "metadata": {},
   "outputs": [],
   "source": [
    "def getSupportedFilesList():\n",
    "    tsp_files_list = os.listdir(tsp_dir)\n",
    "    supportedFiles = []\n",
    "    keyWord = 'EDGE_WEIGHT_SECTION'\n",
    "    for filename in tsp_files_list:\n",
    "        if(filename.find('.tsp') == -1):\n",
    "            continue\n",
    "        foundKeyWord = False\n",
    "        file = open(tsp_dir + os.sep + filename, 'r')\n",
    "        lines = file.readlines()\n",
    "        for line in lines:\n",
    "            if(line.find(keyWord) != -1):\n",
    "                foundKeyWord = True\n",
    "                break\n",
    "        if(foundKeyWord == False):\n",
    "            supportedFiles.append(filename)\n",
    "    return supportedFiles"
   ]
  },
  {
   "cell_type": "code",
   "execution_count": 70,
   "metadata": {},
   "outputs": [],
   "source": [
    "supported_tsp_files_list = getSupportedFilesList()"
   ]
  },
  {
   "cell_type": "code",
   "execution_count": 30,
   "metadata": {},
   "outputs": [],
   "source": [
    "def launchChristofides(filename = 'gr48.tsp', perturbation_percentage = 0.0):\n",
    "    filename = filename\n",
    "    if(filename not in supported_tsp_files_list):\n",
    "        print('WARNING: You are running the algorithm on an unsupported file, Perturbation does not work.')\n",
    "    filename = 'TSPLIB' + os.sep + filename\n",
    "    command = './christofides' + ' -f ' + filename + ' -p ' + str(perturbation_percentage)\n",
    "#     print(command)\n",
    "    out = subprocess.run([command], shell=True, capture_output=True)\n",
    "    output = out.stdout.decode('utf-8')\n",
    "    resultDict = parseOutputString(output)\n",
    "#     print(resultDict)\n",
    "    return resultDict"
   ]
  },
  {
   "cell_type": "code",
   "execution_count": 31,
   "metadata": {},
   "outputs": [
    {
     "data": {
      "text/plain": [
       "{0: ['171414.000000'],\n",
       " 1: ['1.125492', '192925'],\n",
       " 2: ['1.070642', '183523'],\n",
       " 3: ['1.050603', '180088'],\n",
       " 4: ['1.079883', '185107']}"
      ]
     },
     "execution_count": 31,
     "metadata": {},
     "output_type": "execute_result"
    }
   ],
   "source": [
    "launchChristofides('gr431.tsp', 0.01)"
   ]
  },
  {
   "cell_type": "code",
   "execution_count": 32,
   "metadata": {},
   "outputs": [
    {
     "name": "stdout",
     "output_type": "stream",
     "text": [
      "WARNING: You are running the algorithm on an unsupported file, Perturbation does not work.\n"
     ]
    }
   ],
   "source": [
    "MAX_THREADS = 1\n",
    "\n",
    "threads = []\n",
    "for i in range(MAX_THREADS):\n",
    "    t = threading.Thread(target = launchChristofides, args = ('gr431', 0.01))\n",
    "    threads.append(t)\n",
    "    t.start()\n",
    "for t in threads:\n",
    "    t.join()"
   ]
  },
  {
   "cell_type": "code",
   "execution_count": 33,
   "metadata": {},
   "outputs": [],
   "source": [
    "def launchChristofidesThreadSafe(resultDictList, listLock, filename = 'gr48', perturbation_percentage = 0.0):\n",
    "    dictToAdd = launchChristofides(filename, perturbation_percentage)\n",
    "    listLock.acquire()\n",
    "    resultDictList.append(dictToAdd)\n",
    "    listLock.release()\n",
    "    return    "
   ]
  },
  {
   "cell_type": "code",
   "execution_count": 41,
   "metadata": {},
   "outputs": [
    {
     "name": "stdout",
     "output_type": "stream",
     "text": [
      "10\n",
      "[{0: ['171414.000000'], 1: ['1.126192', '193045'], 2: ['1.070228', '183452'], 3: ['1.050258', '180029'], 4: ['1.081569', '185396']}, {0: ['171414.000000'], 1: ['1.125392', '192908'], 2: ['1.070694', '183532'], 3: ['1.050918', '180142'], 4: ['1.086072', '186168']}, {0: ['171414.000000'], 1: ['1.124231', '192709'], 2: ['1.068267', '183116'], 3: ['1.050212', '180021'], 4: ['1.088808', '186637']}, {0: ['171414.000000'], 1: ['1.124762', '192800'], 2: ['1.070134', '183436'], 3: ['1.050748', '180113'], 4: ['1.093866', '187504']}, {0: ['171414.000000'], 1: ['1.118088', '191656'], 2: ['1.064522', '182474'], 3: ['1.051169', '180185'], 4: ['1.080040', '185134']}, {0: ['171414.000000'], 1: ['1.126098', '193029'], 2: ['1.069936', '183402'], 3: ['1.049943', '179975'], 4: ['1.082590', '185571']}, {0: ['171414.000000'], 1: ['1.118835', '191784'], 2: ['1.064785', '182519'], 3: ['1.051664', '180270'], 4: ['1.085827', '186126']}, {0: ['171414.000000'], 1: ['1.124850', '192815'], 2: ['1.068758', '183200'], 3: ['1.050894', '180138'], 4: ['1.087356', '186388']}, {0: ['171414.000000'], 1: ['1.120533', '192075'], 2: ['1.065642', '182666'], 3: ['1.052067', '180339'], 4: ['1.090576', '186940']}, {0: ['171414.000000'], 1: ['1.118555', '191736'], 2: ['1.064615', '182490'], 3: ['1.051466', '180236'], 4: ['1.080740', '185254']}]\n"
     ]
    }
   ],
   "source": [
    "resultList = []\n",
    "listLock = threading.Lock()\n",
    "threads = []\n",
    "for i in range(10):\n",
    "    t = threading.Thread(target = launchChristofidesThreadSafe, args = (resultList, listLock, 'gr431.tsp', 0.01))\n",
    "    threads.append(t)\n",
    "    t.start()\n",
    "for t in threads:\n",
    "    t.join()\n",
    "\n",
    "print(len(resultList))\n",
    "print(resultList)"
   ]
  },
  {
   "cell_type": "code",
   "execution_count": 35,
   "metadata": {},
   "outputs": [],
   "source": [
    "def runExpt(filename, perturbation_percentage, num_threads = 15):\n",
    "    resultList = []\n",
    "    listLock = threading.Lock()\n",
    "    threads = []\n",
    "    for i in range(num_threads):\n",
    "        t = threading.Thread(target = launchChristofidesThreadSafe, args = (resultList, listLock, filename, perturbation_percentage))\n",
    "        threads.append(t)\n",
    "        t.start()\n",
    "    for t in threads:\n",
    "        t.join()\n",
    "    return resultList"
   ]
  },
  {
   "cell_type": "code",
   "execution_count": 36,
   "metadata": {},
   "outputs": [
    {
     "name": "stdout",
     "output_type": "stream",
     "text": [
      "[{0: ['171414.000000'], 1: ['1.110779', '190403'], 2: ['1.062830', '182184'], 3: ['1.042750', '178742'], 4: ['1.113328', '190840']}]\n"
     ]
    }
   ],
   "source": [
    "ans = runExpt('gr431.tsp', 0.1, 1)\n",
    "print(ans)"
   ]
  },
  {
   "cell_type": "code",
   "execution_count": 96,
   "metadata": {},
   "outputs": [],
   "source": [
    "def getAvgList(inpDict=[]):\n",
    "    l = [0.0 for i in range(5)]\n",
    "    n = len(inpDict)\n",
    "    for d in inpDict:\n",
    "        try:\n",
    "            l[0] += float(d[0][0])\n",
    "        except:\n",
    "#             print(d)\n",
    "            n -= 1\n",
    "            print('failed', end='\\t')\n",
    "            continue\n",
    "        for i in range(4):\n",
    "            l[i+1] += float(d[i+1][1])\n",
    "    for i in range(5):\n",
    "        l[i] = l[i]/n\n",
    "    return l"
   ]
  },
  {
   "cell_type": "code",
   "execution_count": 38,
   "metadata": {},
   "outputs": [
    {
     "data": {
      "text/plain": [
       "[171414.0, 190403.0, 182184.0, 178742.0, 190840.0]"
      ]
     },
     "execution_count": 38,
     "metadata": {},
     "output_type": "execute_result"
    }
   ],
   "source": [
    "getAvgList(ans)"
   ]
  },
  {
   "cell_type": "code",
   "execution_count": 39,
   "metadata": {},
   "outputs": [
    {
     "name": "stdout",
     "output_type": "stream",
     "text": [
      "{('a280.tsp', 0.0): [2579.0, 2909.0, 2711.0, 2617.0, 2815.0], ('a280.tsp', 0.01): [2579.0, 2963.32, 2723.46, 2635.8, 2778.36], ('a280.tsp', 0.02): [2579.0, 2967.14, 2727.36, 2636.86, 2780.47], ('a280.tsp', 0.05): [2579.0, 2970.73, 2730.62, 2642.2, 2767.53], ('a280.tsp', 0.1): [2579.0, 2965.82, 2737.27, 2649.93, 2787.12], ('a280.tsp', 0.2): [2579.0, 2924.53, 2742.66, 2663.02, 2820.93], ('a280.tsp', 0.3): [2579.0, 2921.23, 2745.9, 2669.18, 2835.6]}\n"
     ]
    }
   ],
   "source": [
    "NUM_OBSERVATIONS = 100\n",
    "ppList = [0.0, 0.01, 0.02, 0.05, 0.1, 0.2, 0.3]\n",
    "data = {}\n",
    "# for i in range(len(supported_tsp_files_list)):\n",
    "for i in range(1):\n",
    "    filename = supported_tsp_files_list[i]\n",
    "    for j in range(len(ppList)):\n",
    "#     for j in range(1):\n",
    "        pp = ppList[j]\n",
    "        output = runExpt(filename, pp, NUM_OBSERVATIONS)\n",
    "#         print(output)\n",
    "        l = getAvgList(output)\n",
    "        data[(filename, pp)] = []\n",
    "        for k in range(5):\n",
    "            data[(filename, pp)].append(l[k])\n",
    "print(data)"
   ]
  },
  {
   "cell_type": "code",
   "execution_count": 75,
   "metadata": {},
   "outputs": [],
   "source": [
    "def getNumFromString(s):\n",
    "    numStr = ''\n",
    "    for c in list(s):\n",
    "        if(c.isdigit()):\n",
    "            numStr += (c)\n",
    "    return int(numStr)"
   ]
  },
  {
   "cell_type": "code",
   "execution_count": 76,
   "metadata": {},
   "outputs": [],
   "source": [
    "def getData(MAX_N = 1000, NUM_OBSERVATIONS = 15, NUM_FILES = len(supported_tsp_files_list), ppList = [0.0, 0.01, 0.02, 0.05, 0.1, 0.2, 0.3]):\n",
    "    data = {}\n",
    "    for i in range(NUM_FILES):\n",
    "        filename = supported_tsp_files_list[i]\n",
    "        if(getNumFromString(filename) > MAX_N):\n",
    "            continue\n",
    "        print(filename, end='\\t')\n",
    "        for j in range(len(ppList)):\n",
    "            pp = ppList[j]\n",
    "            output = runExpt(filename, pp, NUM_OBSERVATIONS)\n",
    "            print(pp, end = '\\t')\n",
    "            l = getAvgList(output)\n",
    "            data[(filename, pp)] = []\n",
    "            for k in range(5):\n",
    "                data[(filename, pp)].append(l[k])\n",
    "        print('done')\n",
    "    return data"
   ]
  },
  {
   "cell_type": "code",
   "execution_count": 97,
   "metadata": {},
   "outputs": [
    {
     "name": "stdout",
     "output_type": "stream",
     "text": [
      "a280.tsp\t0.0\t0.01\t0.02\t0.05\t0.1\t0.2\t0.3\tdone\n",
      "att48.tsp\t0.0\t0.01\t0.02\t0.05\t0.1\t0.2\t0.3\tdone\n",
      "berlin52.tsp\t0.0\t0.01\t0.02\t0.05\t0.1\t0.2\t0.3\tdone\n",
      "bier127.tsp\t0.0\t0.01\t0.02\t0.05\t0.1\t0.2\t0.3\tdone\n",
      "burma14.tsp\t0.0\t0.01\t0.02\t0.05\t0.1\t0.2\t0.3\tdone\n",
      "ch130.tsp\t0.0\t0.01\t0.02\t0.05\t0.1\t0.2\t0.3\tdone\n",
      "ch150.tsp\t0.0\t0.01\t0.02\t0.05\t0.1\t0.2\t0.3\tdone\n",
      "d198.tsp\t0.0\t0.01\t0.02\t0.05\t0.1\t0.2\t0.3\tdone\n",
      "d493.tsp\t0.0\tfailed\tfailed\tfailed\tfailed\tfailed\tfailed\tfailed\tfailed\tfailed\tfailed\tfailed\tfailed\tfailed\tfailed\tfailed\t"
     ]
    },
    {
     "ename": "ZeroDivisionError",
     "evalue": "float division by zero",
     "output_type": "error",
     "traceback": [
      "\u001b[0;31m---------------------------------------------------------------------------\u001b[0m",
      "\u001b[0;31mZeroDivisionError\u001b[0m                         Traceback (most recent call last)",
      "\u001b[0;32m<ipython-input-97-ecaae0d07e02>\u001b[0m in \u001b[0;36m<module>\u001b[0;34m\u001b[0m\n\u001b[0;32m----> 1\u001b[0;31m \u001b[0mgetData\u001b[0m\u001b[0;34m(\u001b[0m\u001b[0;36m500\u001b[0m\u001b[0;34m,\u001b[0m \u001b[0;36m15\u001b[0m\u001b[0;34m,\u001b[0m \u001b[0;36m100\u001b[0m\u001b[0;34m)\u001b[0m\u001b[0;34m\u001b[0m\u001b[0;34m\u001b[0m\u001b[0m\n\u001b[0m",
      "\u001b[0;32m<ipython-input-76-2012aa8ecd03>\u001b[0m in \u001b[0;36mgetData\u001b[0;34m(MAX_N, NUM_OBSERVATIONS, NUM_FILES, ppList)\u001b[0m\n\u001b[1;32m     10\u001b[0m             \u001b[0moutput\u001b[0m \u001b[0;34m=\u001b[0m \u001b[0mrunExpt\u001b[0m\u001b[0;34m(\u001b[0m\u001b[0mfilename\u001b[0m\u001b[0;34m,\u001b[0m \u001b[0mpp\u001b[0m\u001b[0;34m,\u001b[0m \u001b[0mNUM_OBSERVATIONS\u001b[0m\u001b[0;34m)\u001b[0m\u001b[0;34m\u001b[0m\u001b[0;34m\u001b[0m\u001b[0m\n\u001b[1;32m     11\u001b[0m             \u001b[0mprint\u001b[0m\u001b[0;34m(\u001b[0m\u001b[0mpp\u001b[0m\u001b[0;34m,\u001b[0m \u001b[0mend\u001b[0m \u001b[0;34m=\u001b[0m \u001b[0;34m'\\t'\u001b[0m\u001b[0;34m)\u001b[0m\u001b[0;34m\u001b[0m\u001b[0;34m\u001b[0m\u001b[0m\n\u001b[0;32m---> 12\u001b[0;31m             \u001b[0ml\u001b[0m \u001b[0;34m=\u001b[0m \u001b[0mgetAvgList\u001b[0m\u001b[0;34m(\u001b[0m\u001b[0moutput\u001b[0m\u001b[0;34m)\u001b[0m\u001b[0;34m\u001b[0m\u001b[0;34m\u001b[0m\u001b[0m\n\u001b[0m\u001b[1;32m     13\u001b[0m             \u001b[0mdata\u001b[0m\u001b[0;34m[\u001b[0m\u001b[0;34m(\u001b[0m\u001b[0mfilename\u001b[0m\u001b[0;34m,\u001b[0m \u001b[0mpp\u001b[0m\u001b[0;34m)\u001b[0m\u001b[0;34m]\u001b[0m \u001b[0;34m=\u001b[0m \u001b[0;34m[\u001b[0m\u001b[0;34m]\u001b[0m\u001b[0;34m\u001b[0m\u001b[0;34m\u001b[0m\u001b[0m\n\u001b[1;32m     14\u001b[0m             \u001b[0;32mfor\u001b[0m \u001b[0mk\u001b[0m \u001b[0;32min\u001b[0m \u001b[0mrange\u001b[0m\u001b[0;34m(\u001b[0m\u001b[0;36m5\u001b[0m\u001b[0;34m)\u001b[0m\u001b[0;34m:\u001b[0m\u001b[0;34m\u001b[0m\u001b[0;34m\u001b[0m\u001b[0m\n",
      "\u001b[0;32m<ipython-input-96-58a9cb967977>\u001b[0m in \u001b[0;36mgetAvgList\u001b[0;34m(inpDict)\u001b[0m\n\u001b[1;32m     13\u001b[0m             \u001b[0ml\u001b[0m\u001b[0;34m[\u001b[0m\u001b[0mi\u001b[0m\u001b[0;34m+\u001b[0m\u001b[0;36m1\u001b[0m\u001b[0;34m]\u001b[0m \u001b[0;34m+=\u001b[0m \u001b[0mfloat\u001b[0m\u001b[0;34m(\u001b[0m\u001b[0md\u001b[0m\u001b[0;34m[\u001b[0m\u001b[0mi\u001b[0m\u001b[0;34m+\u001b[0m\u001b[0;36m1\u001b[0m\u001b[0;34m]\u001b[0m\u001b[0;34m[\u001b[0m\u001b[0;36m1\u001b[0m\u001b[0;34m]\u001b[0m\u001b[0;34m)\u001b[0m\u001b[0;34m\u001b[0m\u001b[0;34m\u001b[0m\u001b[0m\n\u001b[1;32m     14\u001b[0m     \u001b[0;32mfor\u001b[0m \u001b[0mi\u001b[0m \u001b[0;32min\u001b[0m \u001b[0mrange\u001b[0m\u001b[0;34m(\u001b[0m\u001b[0;36m5\u001b[0m\u001b[0;34m)\u001b[0m\u001b[0;34m:\u001b[0m\u001b[0;34m\u001b[0m\u001b[0;34m\u001b[0m\u001b[0m\n\u001b[0;32m---> 15\u001b[0;31m         \u001b[0ml\u001b[0m\u001b[0;34m[\u001b[0m\u001b[0mi\u001b[0m\u001b[0;34m]\u001b[0m \u001b[0;34m=\u001b[0m \u001b[0ml\u001b[0m\u001b[0;34m[\u001b[0m\u001b[0mi\u001b[0m\u001b[0;34m]\u001b[0m\u001b[0;34m/\u001b[0m\u001b[0mn\u001b[0m\u001b[0;34m\u001b[0m\u001b[0;34m\u001b[0m\u001b[0m\n\u001b[0m\u001b[1;32m     16\u001b[0m     \u001b[0;32mreturn\u001b[0m \u001b[0ml\u001b[0m\u001b[0;34m\u001b[0m\u001b[0;34m\u001b[0m\u001b[0m\n",
      "\u001b[0;31mZeroDivisionError\u001b[0m: float division by zero"
     ]
    }
   ],
   "source": [
    "getData(500, 15, 100)"
   ]
  },
  {
   "cell_type": "code",
   "execution_count": 98,
   "metadata": {},
   "outputs": [
    {
     "name": "stdout",
     "output_type": "stream",
     "text": [
      "failed\tfailed\tfailed\tfailed\tfailed\tfailed\tfailed\tfailed\tfailed\tfailed\tfailed\t"
     ]
    },
    {
     "data": {
      "text/plain": [
       "[35002.0, 38767.0, 37262.75, 36233.5, 38477.25]"
      ]
     },
     "execution_count": 98,
     "metadata": {},
     "output_type": "execute_result"
    }
   ],
   "source": [
    "a = runExpt('d493.tsp', 0.01, 15)\n",
    "getAvgList(a)"
   ]
  }
 ],
 "metadata": {
  "kernelspec": {
   "display_name": "Python 3",
   "language": "python",
   "name": "python3"
  },
  "language_info": {
   "codemirror_mode": {
    "name": "ipython",
    "version": 3
   },
   "file_extension": ".py",
   "mimetype": "text/x-python",
   "name": "python",
   "nbconvert_exporter": "python",
   "pygments_lexer": "ipython3",
   "version": "3.8.5"
  }
 },
 "nbformat": 4,
 "nbformat_minor": 5
}
