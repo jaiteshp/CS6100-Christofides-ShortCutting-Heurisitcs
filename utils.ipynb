{
 "cells": [
  {
   "cell_type": "code",
   "execution_count": 1,
   "metadata": {},
   "outputs": [],
   "source": [
    "import os\n",
    "import subprocess\n",
    "import matplotlib.pyplot as plt\n",
    "import numpy as np\n",
    "import sys"
   ]
  },
  {
   "cell_type": "code",
   "execution_count": 2,
   "metadata": {},
   "outputs": [],
   "source": [
    "tsp_dir = os.getcwd() + os.sep + 'TSPLIB' + os.sep"
   ]
  },
  {
   "cell_type": "code",
   "execution_count": 3,
   "metadata": {},
   "outputs": [],
   "source": [
    "tsp_files_list = os.listdir(tsp_dir)"
   ]
  },
  {
   "cell_type": "code",
   "execution_count": 4,
   "metadata": {},
   "outputs": [
    {
     "data": {
      "text/plain": [
       "CompletedProcess(args='make christofides', returncode=0, stdout=b\"make: 'christofides' is up to date.\\n\", stderr=b'')"
      ]
     },
     "execution_count": 4,
     "metadata": {},
     "output_type": "execute_result"
    }
   ],
   "source": [
    "subprocess.run('make christofides', shell=True, capture_output=True)"
   ]
  },
  {
   "cell_type": "code",
   "execution_count": 5,
   "metadata": {},
   "outputs": [
    {
     "name": "stdout",
     "output_type": "stream",
     "text": [
      "OptimalSoln:\t2085.000000\n",
      "Simple:\t\t1.053717\t2197\n",
      "Tri-Opt:\t1.031655\t2151\n",
      "Tri-Comp:\t1.031655\t2151\n",
      "Comp-Heur:\t1.074820\t2241\n",
      "\n"
     ]
    }
   ],
   "source": [
    "out = subprocess.run(['./christofides -f TSPLIB/gr17.tsp'], shell=True, capture_output=True)\n",
    "output = out.stdout.decode('utf-8')\n",
    "print(output)\n",
    "import sys"
   ]
  },
  {
   "cell_type": "code",
   "execution_count": 6,
   "metadata": {},
   "outputs": [],
   "source": [
    "def parseOutputString(outputStr):\n",
    "    lines = outputStr.split('\\n')\n",
    "    for l in lines:\n",
    "        s = l.split()\n",
    "        print(s)\n",
    "    return"
   ]
  },
  {
   "cell_type": "code",
   "execution_count": 7,
   "metadata": {},
   "outputs": [
    {
     "name": "stdout",
     "output_type": "stream",
     "text": [
      "['OptimalSoln:', '2085.000000']\n",
      "['Simple:', '1.053717', '2197']\n",
      "['Tri-Opt:', '1.031655', '2151']\n",
      "['Tri-Comp:', '1.031655', '2151']\n",
      "['Comp-Heur:', '1.074820', '2241']\n",
      "[]\n"
     ]
    }
   ],
   "source": [
    "parseOutputString(output)"
   ]
  },
  {
   "cell_type": "code",
   "execution_count": 8,
   "metadata": {},
   "outputs": [],
   "source": [
    "def getSupportedFilesList():\n",
    "    tsp_files_list = os.listdir(tsp_dir)\n",
    "    supportedFiles = []\n",
    "    keyWord = 'EDGE_WEIGHT_SECTION'\n",
    "    for filename in tsp_files_list:\n",
    "        foundKeyWord = False\n",
    "        file = open(tsp_dir + os.sep + filename, 'r')\n",
    "        lines = file.readlines()\n",
    "        for line in lines:\n",
    "            if(line.find(keyWord) != -1):\n",
    "                foundKeyWord = True\n",
    "                break\n",
    "        if(foundKeyWord == False):\n",
    "            supportedFiles.append(filename)\n",
    "    return supportedFiles"
   ]
  },
  {
   "cell_type": "code",
   "execution_count": 9,
   "metadata": {},
   "outputs": [],
   "source": [
    "supported_tsp_files_list = getSupportedFilesList()"
   ]
  },
  {
   "cell_type": "code",
   "execution_count": null,
   "metadata": {},
   "outputs": [],
   "source": []
  }
 ],
 "metadata": {
  "kernelspec": {
   "display_name": "Python 3",
   "language": "python",
   "name": "python3"
  },
  "language_info": {
   "codemirror_mode": {
    "name": "ipython",
    "version": 3
   },
   "file_extension": ".py",
   "mimetype": "text/x-python",
   "name": "python",
   "nbconvert_exporter": "python",
   "pygments_lexer": "ipython3",
   "version": "3.8.5"
  }
 },
 "nbformat": 4,
 "nbformat_minor": 5
}
