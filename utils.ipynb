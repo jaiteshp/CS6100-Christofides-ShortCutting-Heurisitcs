{
 "cells": [
  {
   "cell_type": "code",
   "execution_count": 17,
   "metadata": {},
   "outputs": [],
   "source": [
    "import os\n",
    "import subprocess\n",
    "import matplotlib.pyplot as plt\n",
    "import numpy as np\n",
    "import sys\n",
    "import threading\n",
    "import csv"
   ]
  },
  {
   "cell_type": "code",
   "execution_count": 18,
   "metadata": {},
   "outputs": [],
   "source": [
    "tsp_dir = os.getcwd() + os.sep + 'TSPLIB' + os.sep"
   ]
  },
  {
   "cell_type": "code",
   "execution_count": 19,
   "metadata": {},
   "outputs": [],
   "source": [
    "tsp_files_list = os.listdir(tsp_dir)"
   ]
  },
  {
   "cell_type": "code",
   "execution_count": 20,
   "metadata": {},
   "outputs": [],
   "source": [
    "def getOptmSolns():\n",
    "    file = open(tsp_dir + os.sep + 'solutions', 'r')\n",
    "    lines = file.readlines()\n",
    "    resDict = {}\n",
    "    for l in lines:\n",
    "        s = l.split(' : ')\n",
    "        s[0] += '.tsp'\n",
    "        s[1] = s[1][:-1]\n",
    "        resDict[s[0]] = float(s[1])\n",
    "    return resDict"
   ]
  },
  {
   "cell_type": "code",
   "execution_count": 21,
   "metadata": {},
   "outputs": [],
   "source": [
    "optmSolns = getOptmSolns()"
   ]
  },
  {
   "cell_type": "code",
   "execution_count": 22,
   "metadata": {
    "scrolled": true
   },
   "outputs": [
    {
     "data": {
      "text/plain": [
       "CompletedProcess(args='make christofides', returncode=0, stdout=b\"make: 'christofides' is up to date.\\n\", stderr=b'')"
      ]
     },
     "execution_count": 22,
     "metadata": {},
     "output_type": "execute_result"
    }
   ],
   "source": [
    "subprocess.run('make christofides', shell=True, capture_output=True)"
   ]
  },
  {
   "cell_type": "code",
   "execution_count": 23,
   "metadata": {},
   "outputs": [],
   "source": [
    "def parseOutputString(outputStr):\n",
    "    lines = outputStr.split('\\n')\n",
    "    resultDict = {}\n",
    "    for i in range(len(lines)-1):\n",
    "        line = lines[i]\n",
    "        s = line.split()\n",
    "        if(i == 0):\n",
    "            resultDict[i] = [s[1]]\n",
    "        else:\n",
    "            resultDict[i] = s[1:]\n",
    "    return resultDict"
   ]
  },
  {
   "cell_type": "code",
   "execution_count": 24,
   "metadata": {},
   "outputs": [],
   "source": [
    "def getSupportedFilesList():\n",
    "    tsp_files_list = os.listdir(tsp_dir)\n",
    "    supportedFiles = []\n",
    "    keyWord = 'EDGE_WEIGHT_SECTION'\n",
    "    for filename in tsp_files_list:\n",
    "        if(filename.find('.tsp') == -1):\n",
    "            continue\n",
    "        foundKeyWord = False\n",
    "        file = open(tsp_dir + os.sep + filename, 'r')\n",
    "        lines = file.readlines()\n",
    "        for line in lines:\n",
    "            if(line.find(keyWord) != -1):\n",
    "                foundKeyWord = True\n",
    "                break\n",
    "        if(foundKeyWord == False):\n",
    "            supportedFiles.append(filename)\n",
    "    return supportedFiles"
   ]
  },
  {
   "cell_type": "code",
   "execution_count": 25,
   "metadata": {},
   "outputs": [],
   "source": [
    "supported_tsp_files_list = getSupportedFilesList()"
   ]
  },
  {
   "cell_type": "code",
   "execution_count": 26,
   "metadata": {},
   "outputs": [],
   "source": [
    "def launchChristofides(filename = 'gr48.tsp', perturbation_percentage = 0.0):\n",
    "    filename = filename\n",
    "    if(filename not in supported_tsp_files_list):\n",
    "        print('WARNING: You are running the algorithm on an unsupported file, Perturbation does not work.')\n",
    "    filename = 'TSPLIB' + os.sep + filename\n",
    "    command = './christofides' + ' -f ' + filename + ' -p ' + str(perturbation_percentage)\n",
    "    out = subprocess.run([command], shell=True, capture_output=True)\n",
    "    output = out.stdout.decode('utf-8')\n",
    "    resultDict = parseOutputString(output)\n",
    "    return resultDict"
   ]
  },
  {
   "cell_type": "code",
   "execution_count": 27,
   "metadata": {},
   "outputs": [],
   "source": [
    "def launchChristofidesThreadSafe(resultDictList, listLock, filename = 'gr48', perturbation_percentage = 0.0):\n",
    "    dictToAdd = launchChristofides(filename, perturbation_percentage)\n",
    "    listLock.acquire()\n",
    "    resultDictList.append(dictToAdd)\n",
    "    listLock.release()\n",
    "    return    "
   ]
  },
  {
   "cell_type": "code",
   "execution_count": 28,
   "metadata": {},
   "outputs": [],
   "source": [
    "def runExpt(filename, perturbation_percentage, num_threads = 15):\n",
    "    resultList = []\n",
    "    listLock = threading.Lock()\n",
    "    threads = []\n",
    "    for i in range(num_threads):\n",
    "        t = threading.Thread(target = launchChristofidesThreadSafe, args = (resultList, listLock, filename, perturbation_percentage))\n",
    "        threads.append(t)\n",
    "        t.start()\n",
    "    for t in threads:\n",
    "        t.join()\n",
    "    return resultList"
   ]
  },
  {
   "cell_type": "code",
   "execution_count": 29,
   "metadata": {},
   "outputs": [],
   "source": [
    "def getAvgList(inpDict=[]):\n",
    "    l = [0.0 for i in range(5)]\n",
    "    n = len(inpDict)\n",
    "    for d in inpDict:\n",
    "        try:\n",
    "            l[0] += float(d[0][0])\n",
    "        except:\n",
    "            n -= 1\n",
    "            continue\n",
    "        for i in range(4):\n",
    "            l[i+1] += float(d[i+1][1])\n",
    "    if(n == 0):\n",
    "        print('fhere', end ='\\t')\n",
    "        return l\n",
    "    for i in range(5):\n",
    "        l[i] = l[i]/n\n",
    "    return l"
   ]
  },
  {
   "cell_type": "code",
   "execution_count": 30,
   "metadata": {},
   "outputs": [],
   "source": [
    "def getNumFromString(s):\n",
    "    numStr = ''\n",
    "    for c in list(s):\n",
    "        if(c.isdigit()):\n",
    "            numStr += (c)\n",
    "    return int(numStr)"
   ]
  },
  {
   "cell_type": "code",
   "execution_count": 31,
   "metadata": {},
   "outputs": [],
   "source": [
    "def getData(MAX_N = 1000, NUM_OBSERVATIONS = 15, NUM_FILES = len(supported_tsp_files_list), ppList = [0.0, 0.01, 0.02, 0.05, 0.1, 0.2, 0.3]):\n",
    "    data = {}\n",
    "    if(NUM_FILES > len(supported_tsp_files_list)):\n",
    "        print('There are only', len(supported_tsp_files_list), 'files available')\n",
    "        NUM_FILES = len(supported_tsp_files_list)\n",
    "    for i in range(NUM_FILES):\n",
    "        filename = supported_tsp_files_list[i]\n",
    "        if(getNumFromString(filename) > MAX_N):\n",
    "            continue\n",
    "        print(filename, end='\\t')\n",
    "        for j in range(len(ppList)):\n",
    "            pp = ppList[j]\n",
    "            output = runExpt(filename, pp, NUM_OBSERVATIONS)\n",
    "            print(pp, end = '\\t')\n",
    "            l = getAvgList(output)\n",
    "            data[(filename, pp)] = []\n",
    "            for k in range(5):\n",
    "                data[(filename, pp)].append(l[k])\n",
    "        print(u'\\u2713')\n",
    "    return data"
   ]
  },
  {
   "cell_type": "code",
   "execution_count": 32,
   "metadata": {},
   "outputs": [],
   "source": [
    "ppList = [0.0, 0.01, 0.02, 0.1, 0.3, 1, 2, 3, 5, 10]"
   ]
  },
  {
   "cell_type": "code",
   "execution_count": null,
   "metadata": {},
   "outputs": [
    {
     "name": "stdout",
     "output_type": "stream",
     "text": [
      "There are only 93 files available\n",
      "a280.tsp\t0.0\t0.01\t0.02\t0.1\t0.3\t1\t2\t3\t5\t10\t✓\n",
      "ali535.tsp\t0.0\t0.01\t0.02\t0.1\t0.3\t1\t2\t3\t5\t10\t✓\n",
      "att48.tsp\t0.0\t0.01\t0.02\t0.1\t0.3\t1\t2\t3\t5\t10\t✓\n",
      "att532.tsp\t0.0\t0.01\t0.02\t0.1\t0.3\t1\t2\t3\t5\t10\t✓\n",
      "berlin52.tsp\t0.0\t0.01\t0.02\t0.1\t0.3\t1\t2\t3\t5\t10\t✓\n",
      "bier127.tsp\t0.0\t0.01\t0.02\t0.1\t0.3\t1\t2\t3\t5\t10\t✓\n",
      "burma14.tsp\t0.0\t0.01\t0.02\t0.1\t0.3\t1\t2\t3\t5\t10\t✓\n",
      "ch130.tsp\t0.0\t0.01\t0.02\t0.1\t0.3\t1\t2\t3\t5\t10\t✓\n",
      "ch150.tsp\t0.0\t0.01\t0.02\t0.1\t0.3\t1\t2\t3\t5\t10\t✓\n",
      "d198.tsp\t0.0\t0.01\t0.02\t0.1\t0.3\t1\t2\t3\t5\t10\t✓\n",
      "d657.tsp\t0.0\t0.01\t0.02\t0.1\t0.3\t1\t2\t3\t5\t10\t✓\n",
      "dsj1000.tsp\t0.0\t0.01\t0.02\t0.1\t0.3\t1\t2\t3\t5\t10\t✓\n",
      "eil101.tsp\t0.0\t0.01\t0.02\t0.1\t0.3\t1\t2\t3\t5\t10\t✓\n",
      "eil51.tsp\t0.0\t0.01\t0.02\t0.1\t0.3\t1\t2\t3\t5\t10\t✓\n",
      "eil76.tsp\t0.0\t0.01\t0.02\t0.1\t0.3\t1\t2\t3\t5\t10\t✓\n",
      "fl417.tsp\t0.0\t0.01\t0.02\t0.1\t0.3\t1\t2\t3\t5\t10\t✓\n",
      "gil262.tsp\t0.0\t0.01\t0.02\t0.1\t0.3\t1\t2\t3\t5\t10\t✓\n",
      "gr137.tsp\t0.0\t0.01\t0.02\t0.1\t0.3\t1\t2\t3\t5\t10\t✓\n",
      "gr202.tsp\t0.0\t0.01\t0.02\t0.1\t0.3\t1\t2\t3\t5\t10\t✓\n",
      "gr229.tsp\t0.0\t0.01\t0.02\t0.1\t0.3\t1\t2\t3\t5\t10\t✓\n",
      "gr431.tsp\t0.0\t0.01\t0.02\t0.1\t0.3\t1\t2\t3\t5\t10\t✓\n",
      "gr666.tsp\t0.0\t0.01\t0.02\t0.1\t0.3\t1\t2\t3\t5\t10\t✓\n",
      "gr96.tsp\t0.0\t0.01\t0.02\t0.1\t0.3\t1\t2\t3\t5\t10\t✓\n",
      "kroA100.tsp\t0.0\t0.01\t0.02\t0.1\t0.3\t1\t2\t3\t5\t10\t✓\n",
      "kroA150.tsp\t0.0\t0.01\t0.02\t0.1\t0.3\t1\t2\t3\t5\t10\t✓\n",
      "kroA200.tsp\t0.0\t0.01\t0.02\t0.1\t0.3\t1\t2\t3\t5\t10\t✓\n",
      "kroB100.tsp\t0.0\t0.01\t0.02\t0.1\t0.3\t1\t2\t3\t5\t10\t✓\n",
      "kroB150.tsp\t0.0\t0.01\t0.02\t0.1\t0.3\t1\t2\t3\t5\t10\t✓\n",
      "kroB200.tsp\t0.0\t0.01\t0.02\t0.1\t0.3\t1\t2\t3\t5\t10\t✓\n",
      "kroC100.tsp\t0.0\t0.01\t0.02\t0.1\t0.3\t1\t2\t3\t5\t10\t✓\n",
      "kroD100.tsp\t0.0\t0.01\t0.02\t0.1\t0.3\t1\t2\t3\t5\t10\t✓\n",
      "kroE100.tsp\t0.0\t0.01\t0.02\t0.1\t0.3\t1\t2\t3\t5\t10\t✓\n",
      "lin105.tsp\t0.0\t0.01\t0.02\t0.1\t0.3\t1\t2\t3\t5\t10\t✓\n",
      "lin318.tsp\t0.0\t0.01\t0.02\t0.1\t0.3\t1\t2\t3\t5\t10\t✓\n",
      "linhp318.tsp\t0.0\t0.01\t0.02\t0.1\t0.3\t1\t2\t3\t5\t10\t✓\n",
      "p654.tsp\t0.0\t0.01\t0.02\t0.1\t0.3\t1\t2\t3\t5\t10\t✓\n",
      "pcb442.tsp\t0.0\t0.01\t0.02\t0.1\t0.3\t1\t2\t3\t5\t10\t✓\n",
      "pr107.tsp\t0.0\t0.01\t0.02\t0.1\t0.3\t1\t2\t3\t5\t10\t✓\n",
      "pr124.tsp\t0.0\t0.01\t0.02\t0.1\t0.3\t1\t2\t3\t5\t10\t✓\n",
      "pr136.tsp\t0.0\t0.01\t0.02\t0.1\t0.3\t1\t2\t3\t5\t10\t✓\n",
      "pr144.tsp\t0.0\t0.01\t0.02\t0.1\t0.3\t1\t2\t3\t5\t10\t✓\n",
      "pr152.tsp\t0.0\t0.01\t0.02\t0.1\t0.3\t1\t2\t3\t5\t10\t✓\n",
      "pr226.tsp\t0.0\t0.01\t0.02\t0.1\t0.3\t1\t2\t3\t5\t10\t✓\n",
      "pr264.tsp\t0.0\t0.01\t0.02\t0.1\t0.3\t1\t2\t3\t5\t10\t✓\n",
      "pr299.tsp\t0.0\t0.01\t0.02\t0.1\t0.3\t1\t2\t3\t5\t10\t✓\n",
      "pr439.tsp\t0.0\t0.01\t0.02\t0.1\t0.3\t1\t2\t3\t5\t10\t✓\n",
      "pr76.tsp\t0.0\t0.01\t0.02\t0.1\t0.3\t1\t2\t3\t5\t10\t✓\n",
      "rat195.tsp\t0.0\t0.01\t0.02\t0.1\t0.3\t1\t2\t3\t5\t10\t✓\n",
      "rat575.tsp\t0.0\t0.01\t0.02\t0.1\t0.3\t1\t2\t3\t5\t10\t✓\n",
      "rat783.tsp\t0.0\t0.01\t0.02\t0.1\t0.3\t1\t2\t3\t5\t10\t✓\n",
      "rat99.tsp\t0.0\t0.01\t0.02\t0.1\t0.3\t1\t2\t3\t5\t10\t✓\n",
      "rd100.tsp\t0.0\t0.01\t0.02\t0.1\t0.3\t1\t2\t3\t5\t10\t✓\n",
      "rd400.tsp\t0.0\t0.01\t0.02\t0.1\t0.3\t1\t2\t3\t5\t10\t✓\n",
      "st70.tsp\t0.0\t0.01\t0.02\t0.1\t0.3\t1\t2\t3\t5\t10\t✓\n",
      "ts225.tsp\t0.0\t0.01\t0.02\t0.1\t0.3\t1\t2\t3\t5\t10\t✓\n",
      "tsp225.tsp\t0.0\t0.01\t0.02\t0.1\t0.3\t1\t2\t3\t5\t10\t✓\n",
      "u159.tsp\t0.0\t0.01\t0.02\t0.1\t0.3\t1\t2\t3\t5\t10\t✓\n",
      "u574.tsp\t0.0\t0.01\t0.02\t0.1\t0.3\t1\t2\t3\t5\t10\t✓\n",
      "u724.tsp\t0.0\t0.01\t0.02\t0.1\t0.3\t"
     ]
    }
   ],
   "source": [
    "##### Uncomment last to run for different parameters, saved variable data is for MAX_N = 1000, NUM_OBS = 20, NUM_FILES = 100\n",
    "# %store -r data\n",
    "data = getData(MAX_N = 1000, NUM_OBSERVATIONS = 20, NUM_FILES = 100, ppList=ppList)"
   ]
  },
  {
   "cell_type": "code",
   "execution_count": null,
   "metadata": {},
   "outputs": [],
   "source": [
    "# print(data)"
   ]
  },
  {
   "cell_type": "code",
   "execution_count": null,
   "metadata": {},
   "outputs": [],
   "source": [
    "# ppList = [0.0, 0.01, 0.02, 0.05, 0.1, 0.2, 0.3]\n",
    "# ppList = [0.0, 0.01, 0.02, 0.1, 0.3, 1, 2, 3, 5, 10]\n",
    "allTables = []\n",
    "for t in range(5):\n",
    "    table = []\n",
    "    l1 = []\n",
    "    l1.append('FileName\\Heur: ' + str(t))\n",
    "    for pp in ppList:\n",
    "        l1.append(pp)\n",
    "    table.append(l1)\n",
    "    for file in supported_tsp_files_list:\n",
    "        if((file, 0.0) not in data.keys()):\n",
    "            continue\n",
    "        l = []\n",
    "        l.append(file)\n",
    "        reqdStr = ''\n",
    "        for pp in ppList:\n",
    "            num = data[(file, pp)][t]\n",
    "            optNum = optmSolns[file]\n",
    "            reqdStr = str(round((num/optNum), 3)) + ' | ' + str(round(num, 3))\n",
    "            l.append(reqdStr)\n",
    "        table.append(l)\n",
    "    allTables.append(table)"
   ]
  },
  {
   "cell_type": "code",
   "execution_count": null,
   "metadata": {},
   "outputs": [],
   "source": [
    "def writeCsvTableToDisk(filename, table):\n",
    "    with open(filename+'.csv', 'w', newline='') as file:\n",
    "        writer = csv.writer(file)\n",
    "        writer.writerows(table)\n",
    "    return"
   ]
  },
  {
   "cell_type": "code",
   "execution_count": null,
   "metadata": {},
   "outputs": [],
   "source": [
    "for t in range(len(allTables)):\n",
    "    writeCsvTableToDisk('HeuristicV2 '+ str(t), allTables[t])"
   ]
  },
  {
   "cell_type": "code",
   "execution_count": null,
   "metadata": {},
   "outputs": [],
   "source": [
    "# print(allTables[1])"
   ]
  },
  {
   "cell_type": "code",
   "execution_count": null,
   "metadata": {},
   "outputs": [],
   "source": [
    "# %store data"
   ]
  }
 ],
 "metadata": {
  "kernelspec": {
   "display_name": "Python 3",
   "language": "python",
   "name": "python3"
  },
  "language_info": {
   "codemirror_mode": {
    "name": "ipython",
    "version": 3
   },
   "file_extension": ".py",
   "mimetype": "text/x-python",
   "name": "python",
   "nbconvert_exporter": "python",
   "pygments_lexer": "ipython3",
   "version": "3.8.5"
  }
 },
 "nbformat": 4,
 "nbformat_minor": 5
}
