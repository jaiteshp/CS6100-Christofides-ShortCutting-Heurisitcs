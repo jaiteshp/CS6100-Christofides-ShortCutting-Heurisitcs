{
 "cells": [
  {
   "cell_type": "code",
   "execution_count": 151,
   "metadata": {},
   "outputs": [],
   "source": [
    "import os\n",
    "import subprocess\n",
    "import matplotlib.pyplot as plt\n",
    "import numpy as np\n",
    "import sys\n",
    "import threading"
   ]
  },
  {
   "cell_type": "code",
   "execution_count": 2,
   "metadata": {},
   "outputs": [],
   "source": [
    "tsp_dir = os.getcwd() + os.sep + 'TSPLIB' + os.sep"
   ]
  },
  {
   "cell_type": "code",
   "execution_count": 3,
   "metadata": {},
   "outputs": [],
   "source": [
    "tsp_files_list = os.listdir(tsp_dir)"
   ]
  },
  {
   "cell_type": "code",
   "execution_count": 4,
   "metadata": {},
   "outputs": [
    {
     "data": {
      "text/plain": [
       "CompletedProcess(args='make christofides', returncode=0, stdout=b\"make: 'christofides' is up to date.\\n\", stderr=b'')"
      ]
     },
     "execution_count": 4,
     "metadata": {},
     "output_type": "execute_result"
    }
   ],
   "source": [
    "subprocess.run('make christofides', shell=True, capture_output=True)"
   ]
  },
  {
   "cell_type": "code",
   "execution_count": 5,
   "metadata": {},
   "outputs": [
    {
     "name": "stdout",
     "output_type": "stream",
     "text": [
      "OptimalSoln:\t2085.000000\n",
      "Simple:\t\t1.053717\t2197\n",
      "Tri-Opt:\t1.031655\t2151\n",
      "Tri-Comp:\t1.031655\t2151\n",
      "Comp-Heur:\t1.074820\t2241\n",
      "\n"
     ]
    }
   ],
   "source": [
    "out = subprocess.run(['./christofides -f TSPLIB/gr17.tsp'], shell=True, capture_output=True)\n",
    "output = out.stdout.decode('utf-8')\n",
    "print(output)"
   ]
  },
  {
   "cell_type": "code",
   "execution_count": 30,
   "metadata": {},
   "outputs": [],
   "source": [
    "def parseOutputString(outputStr):\n",
    "    lines = outputStr.split('\\n')\n",
    "    resultDict = {}\n",
    "    for i in range(len(lines)-1):\n",
    "        line = lines[i]\n",
    "        s = line.split()\n",
    "        if(i == 0):\n",
    "            resultDict[i] = [s[1]]\n",
    "        else:\n",
    "            resultDict[i] = s[1:]\n",
    "    return resultDict"
   ]
  },
  {
   "cell_type": "code",
   "execution_count": 31,
   "metadata": {},
   "outputs": [
    {
     "data": {
      "text/plain": [
       "{0: ['2085.000000'],\n",
       " 1: ['1.053717', '2197'],\n",
       " 2: ['1.031655', '2151'],\n",
       " 3: ['1.031655', '2151'],\n",
       " 4: ['1.074820', '2241']}"
      ]
     },
     "execution_count": 31,
     "metadata": {},
     "output_type": "execute_result"
    }
   ],
   "source": [
    "parseOutputString(output)"
   ]
  },
  {
   "cell_type": "code",
   "execution_count": 8,
   "metadata": {},
   "outputs": [],
   "source": [
    "def getSupportedFilesList():\n",
    "    tsp_files_list = os.listdir(tsp_dir)\n",
    "    supportedFiles = []\n",
    "    keyWord = 'EDGE_WEIGHT_SECTION'\n",
    "    for filename in tsp_files_list:\n",
    "        foundKeyWord = False\n",
    "        file = open(tsp_dir + os.sep + filename, 'r')\n",
    "        lines = file.readlines()\n",
    "        for line in lines:\n",
    "            if(line.find(keyWord) != -1):\n",
    "                foundKeyWord = True\n",
    "                break\n",
    "        if(foundKeyWord == False):\n",
    "            supportedFiles.append(filename)\n",
    "    return supportedFiles"
   ]
  },
  {
   "cell_type": "code",
   "execution_count": 9,
   "metadata": {},
   "outputs": [],
   "source": [
    "supported_tsp_files_list = getSupportedFilesList()"
   ]
  },
  {
   "cell_type": "code",
   "execution_count": 164,
   "metadata": {},
   "outputs": [],
   "source": [
    "def launchChristofides(filename = 'gr48', perturbation_percentage = 0.0):\n",
    "    filename = filename + '.tsp'\n",
    "    if(filename not in supported_tsp_files_list):\n",
    "        print('WARNING: You are running the algorithm on an unsupported file, Perturbation does not work.')\n",
    "    filename = 'TSPLIB' + os.sep + filename\n",
    "    command = './christofides' + ' -f ' + filename + ' -p ' + str(perturbation_percentage)\n",
    "    print(command)\n",
    "    out = subprocess.run([command], shell=True, capture_output=True)\n",
    "    output = out.stdout.decode('utf-8')\n",
    "    resultDict = parseOutputString(output)\n",
    "#     print(resultDict)\n",
    "    return resultDict"
   ]
  },
  {
   "cell_type": "code",
   "execution_count": 165,
   "metadata": {},
   "outputs": [
    {
     "name": "stdout",
     "output_type": "stream",
     "text": [
      "./christofides -f TSPLIB/gr431.tsp -p 0.01\n"
     ]
    },
    {
     "data": {
      "text/plain": [
       "{0: ['171414.000000'],\n",
       " 1: ['1.123957', '192662'],\n",
       " 2: ['1.068728', '183195'],\n",
       " 3: ['1.050591', '180086'],\n",
       " 4: ['1.088692', '186617']}"
      ]
     },
     "execution_count": 165,
     "metadata": {},
     "output_type": "execute_result"
    }
   ],
   "source": [
    "launchChristofides('gr431', 0.01)"
   ]
  },
  {
   "cell_type": "code",
   "execution_count": 166,
   "metadata": {},
   "outputs": [
    {
     "name": "stdout",
     "output_type": "stream",
     "text": [
      "./christofides -f TSPLIB/gr431.tsp -p 0.01\n"
     ]
    }
   ],
   "source": [
    "MAX_THREADS = 1\n",
    "\n",
    "threads = []\n",
    "for i in range(MAX_THREADS):\n",
    "    t = threading.Thread(target = launchChristofides, args = ('gr431', 0.01))\n",
    "    threads.append(t)\n",
    "    t.start()\n",
    "for t in threads:\n",
    "    t.join()"
   ]
  },
  {
   "cell_type": "code",
   "execution_count": 167,
   "metadata": {},
   "outputs": [],
   "source": [
    "def launchChristofidesThreadSafe(resultDictList, listLock, filename = 'gr48', perturbation_percentage = 0.0):\n",
    "    dictToAdd = launchChristofides(filename, perturbation_percentage)\n",
    "    listLock.acquire()\n",
    "    resultDictList.append(dictToAdd)\n",
    "    listLock.release()\n",
    "    return    "
   ]
  },
  {
   "cell_type": "code",
   "execution_count": 169,
   "metadata": {},
   "outputs": [
    {
     "name": "stdout",
     "output_type": "stream",
     "text": [
      "./christofides -f TSPLIB/gr431.tsp -p 0.01\n",
      "./christofides -f TSPLIB/gr431.tsp -p 0.01\n",
      "./christofides -f TSPLIB/gr431.tsp -p 0.01\n",
      "./christofides -f TSPLIB/gr431.tsp -p 0.01\n",
      "./christofides -f TSPLIB/gr431.tsp -p 0.01\n",
      "./christofides -f TSPLIB/gr431.tsp -p 0.01\n",
      "./christofides -f TSPLIB/gr431.tsp -p 0.01\n",
      "./christofides -f TSPLIB/gr431.tsp -p 0.01\n",
      "./christofides -f TSPLIB/gr431.tsp -p 0.01./christofides -f TSPLIB/gr431.tsp -p 0.01\n",
      "\n",
      "10\n",
      "[{0: ['171414.000000'], 1: ['1.116245', '191340'], 2: ['1.067766', '183030'], 3: ['1.050194', '180018'], 4: ['1.087752', '186456']}, {0: ['171414.000000'], 1: ['1.125853', '192987'], 2: ['1.070035', '183419'], 3: ['1.050066', '179996'], 4: ['1.081977', '185466']}, {0: ['171414.000000'], 1: ['1.126092', '193028'], 2: ['1.069994', '183412'], 3: ['1.050142', '180009'], 4: ['1.081714', '185421']}, {0: ['171414.000000'], 1: ['1.122050', '192335'], 2: ['1.067538', '182991'], 3: ['1.049588', '179914'], 4: ['1.088091', '186514']}, {0: ['171414.000000'], 1: ['1.125976', '193008'], 2: ['1.070111', '183432'], 3: ['1.050118', '180005'], 4: ['1.087933', '186487']}, {0: ['171414.000000'], 1: ['1.125865', '192989'], 2: ['1.069907', '183397'], 3: ['1.050293', '180035'], 4: ['1.078558', '184880']}, {0: ['171414.000000'], 1: ['1.125912', '192997'], 2: ['1.070035', '183419'], 3: ['1.049903', '179968'], 4: ['1.086539', '186248']}, {0: ['171414.000000'], 1: ['1.125509', '192928'], 2: ['1.069703', '183362'], 3: ['1.049506', '179900'], 4: ['1.081983', '185467']}, {0: ['171414.000000'], 1: ['1.118648', '191752'], 2: ['1.063285', '182262'], 3: ['1.050661', '180098'], 4: ['1.081808', '185437']}, {0: ['171414.000000'], 1: ['1.119337', '191870'], 2: ['1.070420', '183485'], 3: ['1.052948', '180490'], 4: ['1.098393', '188280']}]\n"
     ]
    }
   ],
   "source": [
    "resultList = []\n",
    "listLock = threading.Lock()\n",
    "threads = []\n",
    "for i in range(10):\n",
    "    t = threading.Thread(target = launchChristofidesThreadSafe, args = (resultList, listLock, 'gr431', 0.01))\n",
    "    threads.append(t)\n",
    "    t.start()\n",
    "for t in threads:\n",
    "    t.join()\n",
    "\n",
    "print(len(resultList))\n",
    "print(resultList)"
   ]
  },
  {
   "cell_type": "code",
   "execution_count": null,
   "metadata": {},
   "outputs": [],
   "source": []
  },
  {
   "cell_type": "code",
   "execution_count": null,
   "metadata": {},
   "outputs": [],
   "source": []
  }
 ],
 "metadata": {
  "kernelspec": {
   "display_name": "Python 3",
   "language": "python",
   "name": "python3"
  },
  "language_info": {
   "codemirror_mode": {
    "name": "ipython",
    "version": 3
   },
   "file_extension": ".py",
   "mimetype": "text/x-python",
   "name": "python",
   "nbconvert_exporter": "python",
   "pygments_lexer": "ipython3",
   "version": "3.8.5"
  }
 },
 "nbformat": 4,
 "nbformat_minor": 5
}
